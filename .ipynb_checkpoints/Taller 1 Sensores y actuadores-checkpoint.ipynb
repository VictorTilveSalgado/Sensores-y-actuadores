{
 "cells": [
  {
   "cell_type": "markdown",
   "metadata": {},
   "source": [
    "#Sensores y actuadores\n",
    "##Clasificacion de sensores\n"
   ]
  },
  {
   "cell_type": "markdown",
   "metadata": {},
   "source": [
    "###introducción\n",
    "Existen miles de sensores a día de hoy, para diferentes funciones y propositos, ser capáz de clasificarlos de forma perfecta puede ser considerado una eutopía. Existen multiples tipos de clasificaciones, las cuales incluyen unos sensores y excluyen otros, haciendo el proceso algo confuso. Por otro lado tenemos los actuadores, dispositivos capaces de transformar un tipo de energía en un "
   ]
  },
  {
   "cell_type": "markdown",
   "metadata": {},
   "source": [
    "####Pasive and active sensor\n",
    "A passive sensor is one that does not require external power, whereas an active sensor requires external power. Identify which of the following sensors are active and which are passive.\n",
    "\n",
    "- Alcohol thermometer *(active)*\n",
    "- Thermostat in a car *(passive)*\n",
    "- pH meter in an aquarium *(active)*\n",
    "- Pressure sensor in the lid of a jar *(passive)*\n",
    "- Microphone in a cell pone *(active)*\n",
    "- Water level sensor in a dishwasher *(active)*\n",
    "- Temperature sen(active)sor in a refrigerator *(passive)*\n",
    "- Acceleration sensor in a car *(active)*"
   ]
  },
  {
   "cell_type": "markdown",
   "metadata": {},
   "source": [
    "####Classification of a sensor/actuator\n",
    "Consider a fuse for electrical equipment. It is designed to disconnect at 2 A after a delay of 100 ms. The operation of the fuse is based on heating of a thin wire. When the temperature reaches the melting point, the wire fuses. Classify the device in all possible ways.\n",
    "\n",
    "**Respuesta:**\n",
    "Es un sensor activo que tiene como variable objeto la temperatura a la que se encuentra cierta conexión, debido a la corriente. La temperatura es proporcional a la corriente que atraviesa la conexión, teniendo en cuenta lo anterior, el fusible solo es capaz de tolerar cierta cantidad de corriente, max 2A. A esto ultimo se debe su clasificación de sensor activo. Es un actuador porque dentro de su función ejecuta una respuesta cuando se sensa la corriente máxima permitida.\n"
   ]
  },
  {
   "cell_type": "markdown",
   "metadata": {},
   "source": [
    "####Power loss in optical fibers and the use of dB\n",
    "An optical fiber is rated as having a loss of 4 dB/km. Given an input light power density of 10 mW/mm2 , what is the light power density at the end of a fiber 6 km long?\n",
    "\n",
    "**Respuesta:** \n",
    "\n",
    "Datos:\n",
    "\n",
    "- perdida de 4dB/Km\n",
    "- Distancia 6Km\n",
    "- Densidad de potencia 10mW/mm²\n",
    "\n",
    "**Desarrollo**\n",
    "Para desarrollar el ejercicio era necesairo saber la referencia de la densidad de potencia de la luz, mW/mm². Lo busqué pero al final no lo pued encontrar. Por las unidades conseguí que era *nivel de intensidad de sonido*, conocido como Db sil, el cual tiene como referencia el umblar del oido humano,en el aire, que es de $10^{-12}W/m²$.\n",
    "\n",
    "* Tenemos que:\n",
    "$$ \\frac{10mW}{mm2}=\\frac{10{4}W}{m^2}$$\n",
    "\n",
    "* Se sabe que:\n",
    "$$dB = 10\\log_{10}(\\frac{ratio of measured }{reference})$$\n",
    "\n",
    "* Entonces:\n",
    "$$10log(\\frac{10⁴W/m}{10^{⁻12}W/m}) = 10\\log_{10}(10⁶) = 160dB_{sil}$$\n",
    "\n",
    "Nos dice que las persidas son de ${4dB_{sil}}/{km}$, es decir, en 6 kilometros tendría una perdida de $24dB_{sil}$. Lo que llega al punto indicado, donde la distancia es de 6km desde punto de partida, es: $136bB_{sil}$.\n",
    "\n",
    "Se sabe que: $Rel=\\frac{dato}{10^{⁻12}W/m}$\n",
    "\n",
    "Entonces: \n",
    "$$10log(rel)=136dB_{sil}$$\n",
    "\n",
    "Nos queda que:\n",
    "$$Rel=10^{13,6dB_{sil}}$$\n",
    "\n",
    "la potencia que llega es de:\n",
    "\n",
    "$$dato=10^{13,6dB_{sil}} \\times 10^{-12}W/m²$$\n",
    "\n",
    "$$dato=39,8W/m²$$"
   ]
  },
  {
   "cell_type": "markdown",
   "metadata": {},
   "source": [
    "####Use of dB in a multistage voltage amplifier.\n",
    "When high amplification is required, it is not usually possible to do so with a single amplification stage, for a number of reasons. For example, a simple transistor amplifier is typically limited to an amplification of about 100 or less. More complex amplifiers, such as the operational amplifier (discussed in Chapter 11) are also limited to reasonably low amplification because of bandwidth requirements. Therefore multistage 28 CHAPTER 1 Introduction amplifiers are a necessity whereby the output of one stage is fed as the input to the next stage. Suppose a high-frequency amplifier is required with an amplification (often called gain) of 120 dB. Assuming that individual amplifiers with amplification between 1 and 50 are available, what is the minimum number of amplifiers needed and what are their amplifications? Is the solution unique?\n",
    "\n",
    "**Respuesta:**\n",
    "\n",
    "Teniendo en cuenta que se trabaja en decibeles y que una de sus propiedades es que las multiplicaciones del sistema decimal son sumas al trabajar lso valores en decibeles. En este orden de idea, la cantidad mínima de amplificadores es de 2, ambos de 30. Esta no es la unica solucion,Tenemos una resticción de 1-50, eso querría decir que podría ser 50-10, 40-20 y 30-30."
   ]
  },
  {
   "cell_type": "markdown",
   "metadata": {},
   "source": [
    "#####Acoustic pressure and dB.\n",
    "The human ear responds to pressures between 2x10-5 Pa (the threshold of hearing) and 200 Pa (the threshold of pain) (1 Pa = 1 N/m). Beyond 200 Pa hearing can be permanently impaired.\n",
    "\n",
    "1. Calculate the span of the human ear in dB.\n",
    " - El valor mínimo es de $2\\times10^{-5}Pa$ y el máximo es de 200Pa.\n",
    " - $20\\log_{10}(\\frac{2\\times10^{-5}}{2\\times10^{-5}}) = 0dB $ \n",
    " - $20\\log_{10}(200{2\\times10^{-5}}) = 140dB $ \n",
    " - $Span=200Pa-2\\times10^{-5}Pa=199.96Pa$\n",
    " - Que en decibeles sería: $20\\log_{10}(\\frac{199.96Pa}{2\\times10^{-5}Pa}) = 139.9982dB $ \n",
    " \n",
    "2. A jet engine at a short distance produces a sound pressure of 5000 Pa. An operator must wear hearing protection. What must be the minimum attenuation of the hearing protector in dB?\n",
    " - Procedemos de la siguiente forma: $ 20\\log_{10}(\\frac{500}{2\\times10^{-5}})=167,958dB $\n",
    " - El valor del que debe ser la protección mínima que debe poseer el operador es de 168dB\n"
   ]
  },
  {
   "cell_type": "code",
   "execution_count": null,
   "metadata": {
    "collapsed": true
   },
   "outputs": [],
   "source": []
  }
 ],
 "metadata": {
  "kernelspec": {
   "display_name": "Python 2",
   "language": "python",
   "name": "python2"
  },
  "language_info": {
   "codemirror_mode": {
    "name": "ipython",
    "version": 2
   },
   "file_extension": ".py",
   "mimetype": "text/x-python",
   "name": "python",
   "nbconvert_exporter": "python",
   "pygments_lexer": "ipython2",
   "version": "2.7.10"
  }
 },
 "nbformat": 4,
 "nbformat_minor": 0
}
