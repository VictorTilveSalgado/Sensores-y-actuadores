{
 "cells": [
  {
   "cell_type": "markdown",
   "metadata": {},
   "source": [
    "#Sensores y actuadores\n",
    "##Perfomance Characteristic of Sensors and Actuators"
   ]
  },
  {
   "cell_type": "markdown",
   "metadata": {},
   "source": [
    "###1. Transfer function of a position sensor.\n",
    "The transfer function of a small position sensor is evaluated experimentally. The sensor is made of a very small magnet and the position with respect to the centerline is sensed by the horizontal, from the iron plate. The measurements are given below.\n",
    "\n",
    "\n",
    "| Displacement, d [mm] \t| 0  \t| 0.08  \t| 0.16  \t| 0.24  \t| 0.32  \t| 0.4   \t| 0.48  \t| 0.52  \t|\n",
    "|----------------------\t|\t|\t|  |     |    |  |  |  \n",
    "| **Force [mN]     **      \t|  0 \t| 0.576 \t| 1.147 \t| 1.677 \t| 2.187 \t| 2.648 \t| 3.089 \t| 3.295 |\n"
   ]
  },
  {
   "cell_type": "markdown",
   "metadata": {},
   "source": [
    "![A simple position sensor.](../Sensores_y_actuadores/images/simple-position-sensor.png \"A simple position sensor.\")\n",
    "                                $$Fig. 2.24\\ A\\ simple\\ position\\ sensor.$$"
   ]
  },
  {
   "cell_type": "markdown",
   "metadata": {
    "collapsed": true
   },
   "source": [
    "1. Find the linear transfer function that best fits these data.    \n",
    "2. Find a transfer function in the form of a second-order polynomial ($y = a+bf+cf^2$), where $y$ is the displacement and $f$ is the restoring force by evaluating the constants $a$, $b$, and $c$.    \n",
    "3. Plot the original data together with the transfer functions in (1) and (2) and discuss the errors in the choice of approximation.    "
   ]
  },
  {
   "cell_type": "markdown",
   "metadata": {},
   "source": [
    "###Solución\n",
    "Antes de proceder con la solución de cada uno de los puntos es oportuno imprimir los datos y observar el tipo de curva que genera."
   ]
  },
  {
   "cell_type": "code",
   "execution_count": 4,
   "metadata": {
    "collapsed": false
   },
   "outputs": [
    {
     "data": {
      "image/png": "[encoded data removed]",
      "text/plain": [
       "<matplotlib.figure.Figure at 0xb0e11f6c>"
      ]
     },
     "metadata": {},
     "output_type": "display_data"
    }
   ],
   "source": [
    "import matplotlib.pyplot as plt\n",
    "import numpy as np\n",
    "%matplotlib inline\n",
    "d = np.array([0,0.08,0.16,0.24,0.32,0.4,0.48,0.52])\n",
    "f = np.array([0,0.576,1.147,1.677,2.187,2.648,3.089,3.295])\n",
    "\n",
    "plt.plot(f,d,'b-')\n",
    "plt.plot(f,d,'*',color='red')\n",
    "plt.ylabel('Desplazamiento [mm]')\n",
    "plt.xlabel('Fuerza [mN]')\n",
    "plt.show()\n"
   ]
  },
  {
   "cell_type": "markdown",
   "metadata": {},
   "source": [
    "* Se nos pide que que hayemos la ecuación líneal, $y = a+bf$, que mejor represente a los valores"
   ]
  },
  {
   "cell_type": "code",
   "execution_count": 8,
   "metadata": {
    "collapsed": false
   },
   "outputs": [
    {
     "data": {
      "image/png": "[encoded data removed]",
      "text/plain": [
       "<matplotlib.figure.Figure at 0xaee761ec>"
      ]
     },
     "metadata": {},
     "output_type": "display_data"
    }
   ],
   "source": [
    "#Hago a fun un vector de  dos valores, en los que se alojan los valores de los coeficientes de la ecuacion lineal(a y b).\n",
    "fun=np.polyfit(f,d,1)\n",
    "\n",
    "#convierto a p en la funcion polinomica, de primer orden con los parametros obtenidos con polyfit.\n",
    "p = np.poly1d(fun)\n",
    "plt.plot(f,d,'*',label='lineal')\n",
    "plt.plot(f,p(f),'-',label='original')\n",
    "plt.ylabel('Desplazamiento [mm]')\n",
    "plt.xlabel('Fuerza [mN]')\n",
    "plt.axis([0,4,0,0.6])\n",
    "plt.legend(loc='upper left')\n",
    "plt.show()"
   ]
  },
  {
   "cell_type": "code",
   "execution_count": 54,
   "metadata": {
    "collapsed": false
   },
   "outputs": [
    {
     "name": "stdout",
     "output_type": "stream",
     "text": [
      "Los valores de los coeficientes son a: 0.157661058706  b: -0.0131058771534\n"
     ]
    }
   ],
   "source": [
    "print \"Los valores de los coeficientes son a:\",fun[0],\" b:\",fun[1]"
   ]
  },
  {
   "cell_type": "markdown",
   "metadata": {},
   "source": [
    "Podemos observar que hay un pequeño error. Se supone que la linea que obtuvimos debe pasar por el (0,0), y lo lo hace, se puede arreglar, pero es un error que se obtiene al obtener un ecuacion leneal de una curva."
   ]
  },
  {
   "cell_type": "markdown",
   "metadata": {},
   "source": [
    "* En el segundo inciso nos piden que obtengamos la ecuacione de tranferencia de segundo orden, para lo cual procedemos de manera similar al inciso 1."
   ]
  },
  {
   "cell_type": "code",
   "execution_count": 5,
   "metadata": {
    "collapsed": false
   },
   "outputs": [
    {
     "name": "stdout",
     "output_type": "stream",
     "text": [
      "Los coeficientes de la ecuaciones de segundo orden son a = 0.00926531112283 b = 0.126233269703 c = 0.00187368040221\n"
     ]
    }
   ],
   "source": [
    "fun2=np.polyfit(f,d,2)\n",
    "p2 = np.poly1d(fun2)\n",
    "\n",
    "#Obtenemos loscoeficinetes del polinomiode segundo orden\n",
    "print 'Los coeficientes de la ecuaciones de segundo orden son a =',fun2[0],'b =',fun2[1],'c =',fun2[2]"
   ]
  },
  {
   "cell_type": "markdown",
   "metadata": {},
   "source": [
    "Lo siguiente es suponer las los graficas que obtivimos,punto 3 del ejercicio, para esto haremos lo siguente:"
   ]
  },
  {
   "cell_type": "code",
   "execution_count": 9,
   "metadata": {
    "collapsed": false
   },
   "outputs": [
    {
     "data": {
      "image/png": "[encoded data removed]",
      "text/plain": [
       "<matplotlib.figure.Figure at 0xaefff78c>"
      ]
     },
     "metadata": {},
     "output_type": "display_data"
    }
   ],
   "source": [
    "plt.plot(f,p2(f),'--k',label='Segundo orden')\n",
    "plt.plot(f,p(f),':b',label='Linear')\n",
    "plt.plot(f,d,'*',label='Original')\n",
    "plt.ylabel('Desplazamiento [mm]')\n",
    "plt.xlabel('Fuerza [mN]')\n",
    "plt.legend(loc='upper left')\n",
    "plt.show()\n"
   ]
  },
  {
   "cell_type": "markdown",
   "metadata": {},
   "source": [
    "###2. Loading effects on actuators.\n",
    "Suppose an $8\\Omega$ loudspeaker is driven from an amplifier under matched conditions, meaning that the amplifier's output equals $8\\Omega$. Under these conditions the amplifier transfers maximun power to the loudspeaker. The user decides to connect , identical speaker in parallel to the first to better distribute sound in the room. The amplifier supplies an output voltage $V=48V$.\n",
    "\n",
    "1. Show that the total power on the two speakers is lower than that supplied to a single speaker.\n",
    "2. If one desires to maintain the same power, what must be the impedance of the speakers assuming they are still connected in parallel to the amplifier?"
   ]
  },
  {
   "cell_type": "markdown",
   "metadata": {},
   "source": [
    "Para resolver el **primer punto** del ejercicio debemos tener en cuenta que la potencia, p, es igual a i*v (Corriente * voltaje), en ese orden de ideas:\n",
    "* Primero consideraremos el amplificador y un solo *loudspeaker*.\n",
    "\n",
    "se suman las resistencias en  serie, por lo que queda que la $R_{equi}=16\\Omega$\n",
    "\n",
    "$R_{equi}=8\\Omega\\ + 8\\Omega= 16\\Omega$\n",
    "\n",
    "La potencia del *loudspeaker* es igual a:\n",
    "\n",
    "$i=\\frac{48V}{16\\Omega}=3A$\n",
    "\n",
    "$p=i\\times v = i²\\times R = 8\\Omega\\times (3A)² = 72W$\n",
    "\n",
    "* Para es caso de dos *loudspeaker* conectados en paralelo\n",
    "\n",
    "Se sabe que dos impedancias del mismo valor dan como resultado una impedancia equivalente a la mitad del valor, por eso, si ambos *loudspeaker* son de $8\\Omega$ la impedancia equivalente es de $a\\Omega$.\n",
    "\n",
    "Entonces:\n",
    "\n",
    "$i=\\frac{48V}{8 + 4\\Omega}=4A$\n",
    "\n",
    "$p=i\\times v = i²\\times R = 4\\Omega\\times (4A)² = 64W$\n",
    "\n",
    "De esta forma podemos notar que la potencia teniendo conectados en paralelo dos *loudspeakers* es menor que teniendo uno solo\n",
    "\n",
    "El **segundo punto** se resuelve teniendo en cuenta lo mencionado arriba. dos resistencias de igual valor conectadas en paralelo daran como resistencia equivalente la mitad del valor de una sola. Si se desea mantener la potencia igual, se debe tener una impedancia de $8\\Omega$, porlo que ambosspeakers deben tener una impedancia de $16\\Omega$ para que su impedancia equivalente sea de $8\\Omega$ y se mantenga la potencia.\n",
    "\n"
   ]
  },
  {
   "cell_type": "markdown",
   "metadata": {},
   "source": [
    "###3. Power output of an electrical motor.\n",
    "The torque of a DC motor is linear with the speed of the motor and given in next figure. Find the power transfer function of the motor, that is, the relation between speed and power. Show that maximun mechanical power is obtained at half the lo-load speed and/or half the stall torque.\n"
   ]
  },
  {
   "cell_type": "markdown",
   "metadata": {},
   "source": [
    "![Power output of an electrical motor](../Sensores_y_actuadores/images/power-output-motor.png \"Power output of an electrical motor\")\n",
    "                                $$Fig. 2.25\\ Power\\ output\\ of\\ an\\ electrical\\ motor.$$"
   ]
  },
  {
   "cell_type": "markdown",
   "metadata": {},
   "source": [
    "Acontinuación se obtendra la ecuacoine de la recta,$y = a+bf$, que describe la anterior grafica. Para eso se obtendrán los valores de a y b."
   ]
  },
  {
   "cell_type": "code",
   "execution_count": 10,
   "metadata": {
    "collapsed": false
   },
   "outputs": [
    {
     "name": "stdout",
     "output_type": "stream",
     "text": [
      "El valor de los coeficientes es a= -8.33333333333e-06 b= 0.05\n"
     ]
    }
   ],
   "source": [
    "k = np.array([0.05,0])\n",
    "r = np.array([0,6000])\n",
    "#Hago a fun un vector de  dos valores, en los que se alojan los valores de los coeficientes de la ecuacion lineal(a y b).\n",
    "funt=np.polyfit(r,k,1)\n",
    "print \"El valor de los coeficientes es a=\",funt[0],\"b=\",funt[1]"
   ]
  },
  {
   "cell_type": "markdown",
   "metadata": {},
   "source": [
    "Por teoría conocemos que, $P=\\omega \\times \\tau$, además conocemos los coeficientes de la anterior ecuacion lineal.\n",
    "\n",
    "$\\tau=(-8.333\\times10^{-06}\\omega + 0.05)$\n",
    "\n",
    "Entonces, La potencia queda dada de la siguiente forma:\n",
    "\n",
    "$P=\\omega\\times(-8.333\\times10^{-06}\\omega + 0.05)$\n",
    "\n",
    "\n",
    "$P=-8.333\\times10^{-06}\\omega^{2} + 0.05\\omega$\n",
    "\n",
    "Teniendo la ecuacion de la potencia, procedemos a derivar para encontrar el valor maximo de la potencia.\n",
    "\n",
    "$\\frac{dP}{d\\omega}=2\\times-8.333\\times10^{-06}\\omega + 0.05$\n",
    "\n",
    "Igualamos la ecuación a 0, y despejamos para hallar el valor de la frecuencia angular\n",
    "\n",
    "$0=2\\times-8.333\\times10^{-06}\\omega + 0.05$\n",
    "\n",
    "$-0.05=2\\times-8.333\\times10^{-06}\\omega$\n",
    "\n",
    "$\\omega=\\frac{-0.05}{16.666\\times10^{-06}}$\n",
    "\n",
    "Obtenemos el siguiente valor\n",
    "\n",
    "$\\omega=3000 [rpm]$\n",
    "\n",
    "De esta forma queda demostrado que la maxima potencia se encuentra en la mitad del torque y la mitad de la velocidad angular, considerando que 3000rpm."
   ]
  },
  {
   "cell_type": "code",
   "execution_count": 18,
   "metadata": {
    "collapsed": false
   },
   "outputs": [
    {
     "data": {
      "image/png": "[encoded data removed]",
      "text/plain": [
       "<matplotlib.figure.Figure at 0xaec5d88c>"
      ]
     },
     "metadata": {},
     "output_type": "display_data"
    }
   ],
   "source": [
    "#convierto a p en la funcion polinomica, de primer orden con los parametros obtenidos con polyfit.\n",
    "g = np.poly1d(funt)\n",
    "plt.plot(r,g(r),'-')\n",
    "plt.plot(3000,g(3000),'*')\n",
    "plt.ylabel('Torque [N*m]')\n",
    "plt.xlabel('Speed [rpm]')\n",
    "\n",
    "plt.show()\n",
    "\n"
   ]
  },
  {
   "cell_type": "markdown",
   "metadata": {},
   "source": [
    "###4. Hysteresis in a torque sensor.\n",
    "A torque sensor is calibrated by applying static torque to it(i.e., a certain torque is applied, the sensor is measured, and then the torque is increased or decreased to measure another point of the curve). The following data are obtained. The first set is obtained by increasing torque, the second by decreasing it.\n"
   ]
  },
  {
   "cell_type": "markdown",
   "metadata": {},
   "source": [
    "$$Increasing\\ torque$$\n",
    "\n",
    "|Applied torque [$N*m$]    |2.3    |3.14| 4  |4.84| 5.69| 6.54|7.39| 8.25| 9.09| 9.52| 10.37| 10.79|\n",
    "|--------------------------|       |         |    |    | \n",
    "|**Sensed torque [$N*m$]** |  2.51 |2.99|3.54|4.12| 4.71| 5.29|5.87| 6.4| 6.89| 7.1| 7.49 |7.62|\n",
    "\n",
    "$$Decreasing\\ torque$$\n",
    "\n",
    "|Applied torque [$N*m$]    |10.79 |10.37| 9.52| 9.09| 8.25| 7.39| 6.54| 5.69| 4.84| 4| 3.14| 2.3|\n",
    "|--------------------------|       |         |    |    | \n",
    "|**Sensed torque [$N*m$]** |  7.68 |7.54 |7.22 |7.05| 6.68| 6.26| 5.8| 5.29| 4.71| 4.09| 3.37| 2.54|\n",
    "\n",
    "1. Plot the transfer function of the torque sensor using a second-order least squares approximation.\n",
    "2. Calculate the maximum error due to hysteresis as a percentage of full scale.\n"
   ]
  },
  {
   "cell_type": "markdown",
   "metadata": {},
   "source": [
    "Por facilidad se creara un solo vector correspondiente al torque aplicada y dos vectores de torque sensado\n",
    "uno para cuando incremente y otro para cuando decrezca.\n",
    " "
   ]
  },
  {
   "cell_type": "code",
   "execution_count": 52,
   "metadata": {
    "collapsed": false
   },
   "outputs": [
    {
     "data": {
      "image/png": "[encoded data removed]",
      "text/plain": [
       "<matplotlib.figure.Figure at 0xaeccca0c>"
      ]
     },
     "metadata": {},
     "output_type": "display_data"
    }
   ],
   "source": [
    "import matplotlib.pyplot as plt\n",
    "import numpy as np\n",
    "%matplotlib inline\n",
    "\n",
    "vecta  = np.array([2.3, 3.14 ,4 ,4.84, 5.69 ,6.54, 7.39, 8.25, 9.09, 9.52, 10.37, 10.79])\n",
    "vectup = np.array([2.51 ,2.99 ,3.54 ,4.12 ,4.71 ,5.29 ,5.87 ,6.4 ,6.89 ,7.1 ,7.49 ,7.62])\n",
    "vectd  = np.array([2.54 ,3.37, 4.09 ,4.71, 5.29, 5.8, 6.26, 6.68, 7.05, 7.22, 7.54, 7.68])\n",
    "vecta2 = np.array([2.3, 3.14 ,4 ,4.84, 5.69 ,6.54, 7.39, 8.25, 9.09, 9.52, 10.37, 10.79,2.3, 3.14 ,4 ,4.84, 5.69 ,6.54, 7.39, 8.25, 9.09, 9.52, 10.37, 10.79])\n",
    "vectupnd=np.array([2.51 ,2.99 ,3.54 ,4.12 ,4.71 ,5.29 ,5.87 ,6.4 ,6.89 ,7.1 ,7.49 ,7.62,2.54 ,3.37, 4.09 ,4.71, 5.29, 5.8, 6.26, 6.68, 7.05, 7.22, 7.54, 7.68])\n",
    "\n",
    "#Hago a fun un vector de  dos valores, en los que se alojan los valores de los coeficientes de la ecuacion\n",
    "#cuadrática(a, b y c).\n",
    "y=np.polyfit(vecta2,vectupnd,2)\n",
    "\n",
    "ans= np.poly1d(y)\n",
    "plt.plot(vecta2,ans(vecta2),'*',label='Least squares')\n",
    "plt.plot(vecta,vectup,'g:',label='Increasing')\n",
    "plt.plot(vecta,vectd,'b--',label='Decreasing')\n",
    "plt.ylabel('Sensed torque [N*m]')\n",
    "plt.xlabel('Aplied torque [N*m]')\n",
    "plt.legend(loc='upper left')\n",
    "plt.show()"
   ]
  },
  {
   "cell_type": "code",
   "execution_count": 68,
   "metadata": {
    "collapsed": false
   },
   "outputs": [
    {
     "name": "stdout",
     "output_type": "stream",
     "text": [
      "linea 1 =Funcion Incremento del torque\n",
      "linea 2 =Funcion Decremento del torque\n",
      "\n",
      "El máximo error es  0.0768317745475 , se encuentra en la linea 1  en la posicion 2\n"
     ]
    }
   ],
   "source": [
    "out1=np.zeros([12],dtype=np.float32)\n",
    "#En out1 es un vector que contendrá todos los valores correspondientes a la funcion ans teniendo como \n",
    "# parametro el vector vecta[1]\n",
    "\n",
    "for i in range(12):\n",
    "    out1[i]=ans(vecta[i])\n",
    "\n",
    "\n",
    "flag=0;\n",
    "posicion=0;\n",
    "line=0;\n",
    "for i in range(12):\n",
    "    error=abs((vectup[i]-out1[i])/out1[i])\n",
    "    \n",
    "    if(error>flag):\n",
    "        flag=error\n",
    "        posicion=i\n",
    "        line=1\n",
    "\n",
    "    error=abs((vectd[i]-out1[i])/out1[i])\n",
    "\n",
    "    if(error>flag):\n",
    "        flag=error\n",
    "        posicion=i\n",
    "        line=2\n",
    "print \"linea 1 =Funcion Incremento del torque\"        \n",
    "print \"linea 2 =Funcion Decremento del torque\"   \n",
    "print \"\"\n",
    "print \"El máximo error es \",flag ,\", se encuentra en la linea\",line,\" en la posicion\",posicion"
   ]
  }
 ],
 "metadata": {
  "kernelspec": {
   "display_name": "Python 2",
   "language": "python",
   "name": "python2"
  },
  "language_info": {
   "codemirror_mode": {
    "name": "ipython",
    "version": 2
   },
   "file_extension": ".py",
   "mimetype": "text/x-python",
   "name": "python",
   "nbconvert_exporter": "python",
   "pygments_lexer": "ipython2",
   "version": "2.7.10"
  }
 },
 "nbformat": 4,
 "nbformat_minor": 0
}
